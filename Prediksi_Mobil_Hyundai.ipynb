{
  "nbformat": 4,
  "nbformat_minor": 0,
  "metadata": {
    "colab": {
      "provenance": []
    },
    "kernelspec": {
      "name": "python3",
      "display_name": "Python 3"
    },
    "language_info": {
      "name": "python"
    }
  },
  "cells": [
    {
      "cell_type": "code",
      "execution_count": null,
      "metadata": {
        "colab": {
          "base_uri": "https://localhost:8080/"
        },
        "id": "ddxvv0ecPt6H",
        "outputId": "66771b41-e5c3-4b62-e44b-dadc1416101b"
      },
      "outputs": [
        {
          "output_type": "stream",
          "name": "stdout",
          "text": [
            "Looking in indexes: https://pypi.org/simple, https://us-python.pkg.dev/colab-wheels/public/simple/\n",
            "Collecting opendatasets\n",
            "  Downloading opendatasets-0.1.22-py3-none-any.whl (15 kB)\n",
            "Requirement already satisfied: tqdm in /usr/local/lib/python3.8/dist-packages (from opendatasets) (4.64.1)\n",
            "Requirement already satisfied: click in /usr/local/lib/python3.8/dist-packages (from opendatasets) (7.1.2)\n",
            "Requirement already satisfied: kaggle in /usr/local/lib/python3.8/dist-packages (from opendatasets) (1.5.12)\n",
            "Requirement already satisfied: certifi in /usr/local/lib/python3.8/dist-packages (from kaggle->opendatasets) (2022.9.24)\n",
            "Requirement already satisfied: six>=1.10 in /usr/local/lib/python3.8/dist-packages (from kaggle->opendatasets) (1.15.0)\n",
            "Requirement already satisfied: requests in /usr/local/lib/python3.8/dist-packages (from kaggle->opendatasets) (2.23.0)\n",
            "Requirement already satisfied: python-slugify in /usr/local/lib/python3.8/dist-packages (from kaggle->opendatasets) (7.0.0)\n",
            "Requirement already satisfied: python-dateutil in /usr/local/lib/python3.8/dist-packages (from kaggle->opendatasets) (2.8.2)\n",
            "Requirement already satisfied: urllib3 in /usr/local/lib/python3.8/dist-packages (from kaggle->opendatasets) (1.24.3)\n",
            "Requirement already satisfied: text-unidecode>=1.3 in /usr/local/lib/python3.8/dist-packages (from python-slugify->kaggle->opendatasets) (1.3)\n",
            "Requirement already satisfied: chardet<4,>=3.0.2 in /usr/local/lib/python3.8/dist-packages (from requests->kaggle->opendatasets) (3.0.4)\n",
            "Requirement already satisfied: idna<3,>=2.5 in /usr/local/lib/python3.8/dist-packages (from requests->kaggle->opendatasets) (2.10)\n",
            "Installing collected packages: opendatasets\n",
            "Successfully installed opendatasets-0.1.22\n",
            "Looking in indexes: https://pypi.org/simple, https://us-python.pkg.dev/colab-wheels/public/simple/\n",
            "Requirement already satisfied: pandas in /usr/local/lib/python3.8/dist-packages (1.3.5)\n",
            "Requirement already satisfied: numpy>=1.17.3 in /usr/local/lib/python3.8/dist-packages (from pandas) (1.21.6)\n",
            "Requirement already satisfied: python-dateutil>=2.7.3 in /usr/local/lib/python3.8/dist-packages (from pandas) (2.8.2)\n",
            "Requirement already satisfied: pytz>=2017.3 in /usr/local/lib/python3.8/dist-packages (from pandas) (2022.6)\n",
            "Requirement already satisfied: six>=1.5 in /usr/local/lib/python3.8/dist-packages (from python-dateutil>=2.7.3->pandas) (1.15.0)\n"
          ]
        }
      ],
      "source": [
        "!pip install opendatasets\n",
        "!pip install pandas"
      ]
    },
    {
      "cell_type": "code",
      "source": [
        "import opendatasets as od\n",
        "import pandas as pd\n",
        "\n",
        "#import dataset langsung dari kaggle\n",
        "od.download(\n",
        "    \"https://www.kaggle.com/datasets/adityadesai13/used-car-dataset-ford-and-mercedes?resource=download\")"
      ],
      "metadata": {
        "colab": {
          "base_uri": "https://localhost:8080/"
        },
        "id": "jOUmbucAP3qs",
        "outputId": "d1e1ecd0-636c-4a06-c6df-cc03ee73b28d"
      },
      "execution_count": null,
      "outputs": [
        {
          "output_type": "stream",
          "name": "stdout",
          "text": [
            "Please provide your Kaggle credentials to download this dataset. Learn more: http://bit.ly/kaggle-creds\n",
            "Your Kaggle username: fadhilwicaksono\n",
            "Your Kaggle Key: ··········\n",
            "Downloading used-car-dataset-ford-and-mercedes.zip to ./used-car-dataset-ford-and-mercedes\n"
          ]
        },
        {
          "output_type": "stream",
          "name": "stderr",
          "text": [
            "100%|██████████| 1.10M/1.10M [00:00<00:00, 61.7MB/s]"
          ]
        },
        {
          "output_type": "stream",
          "name": "stdout",
          "text": [
            "\n"
          ]
        },
        {
          "output_type": "stream",
          "name": "stderr",
          "text": [
            "\n"
          ]
        }
      ]
    },
    {
      "cell_type": "code",
      "source": [
        "#Data Preparasi\n",
        "#dataset mobil Hyundai\n",
        "dataset = pd.read_csv(\"./used-car-dataset-ford-and-mercedes/hyundi.csv\")\n",
        "dataset.head()"
      ],
      "metadata": {
        "colab": {
          "base_uri": "https://localhost:8080/",
          "height": 206
        },
        "id": "_uS15u2TQWFm",
        "outputId": "0e3da3de-2f43-4b9c-ed9b-bca729def520"
      },
      "execution_count": null,
      "outputs": [
        {
          "output_type": "execute_result",
          "data": {
            "text/plain": [
              "     model  year  price transmission  mileage fuelType  tax(£)   mpg  \\\n",
              "0      I20  2017   7999       Manual    17307   Petrol     145  58.9   \n",
              "1   Tucson  2016  14499    Automatic    25233   Diesel     235  43.5   \n",
              "2   Tucson  2016  11399       Manual    37877   Diesel      30  61.7   \n",
              "3      I10  2016   6499       Manual    23789   Petrol      20  60.1   \n",
              "4     IX35  2015  10199       Manual    33177   Diesel     160  51.4   \n",
              "\n",
              "   engineSize  \n",
              "0         1.2  \n",
              "1         2.0  \n",
              "2         1.7  \n",
              "3         1.0  \n",
              "4         2.0  "
            ],
            "text/html": [
              "\n",
              "  <div id=\"df-2073d096-ce98-41d7-91f2-9b0700d8dc1c\">\n",
              "    <div class=\"colab-df-container\">\n",
              "      <div>\n",
              "<style scoped>\n",
              "    .dataframe tbody tr th:only-of-type {\n",
              "        vertical-align: middle;\n",
              "    }\n",
              "\n",
              "    .dataframe tbody tr th {\n",
              "        vertical-align: top;\n",
              "    }\n",
              "\n",
              "    .dataframe thead th {\n",
              "        text-align: right;\n",
              "    }\n",
              "</style>\n",
              "<table border=\"1\" class=\"dataframe\">\n",
              "  <thead>\n",
              "    <tr style=\"text-align: right;\">\n",
              "      <th></th>\n",
              "      <th>model</th>\n",
              "      <th>year</th>\n",
              "      <th>price</th>\n",
              "      <th>transmission</th>\n",
              "      <th>mileage</th>\n",
              "      <th>fuelType</th>\n",
              "      <th>tax(£)</th>\n",
              "      <th>mpg</th>\n",
              "      <th>engineSize</th>\n",
              "    </tr>\n",
              "  </thead>\n",
              "  <tbody>\n",
              "    <tr>\n",
              "      <th>0</th>\n",
              "      <td>I20</td>\n",
              "      <td>2017</td>\n",
              "      <td>7999</td>\n",
              "      <td>Manual</td>\n",
              "      <td>17307</td>\n",
              "      <td>Petrol</td>\n",
              "      <td>145</td>\n",
              "      <td>58.9</td>\n",
              "      <td>1.2</td>\n",
              "    </tr>\n",
              "    <tr>\n",
              "      <th>1</th>\n",
              "      <td>Tucson</td>\n",
              "      <td>2016</td>\n",
              "      <td>14499</td>\n",
              "      <td>Automatic</td>\n",
              "      <td>25233</td>\n",
              "      <td>Diesel</td>\n",
              "      <td>235</td>\n",
              "      <td>43.5</td>\n",
              "      <td>2.0</td>\n",
              "    </tr>\n",
              "    <tr>\n",
              "      <th>2</th>\n",
              "      <td>Tucson</td>\n",
              "      <td>2016</td>\n",
              "      <td>11399</td>\n",
              "      <td>Manual</td>\n",
              "      <td>37877</td>\n",
              "      <td>Diesel</td>\n",
              "      <td>30</td>\n",
              "      <td>61.7</td>\n",
              "      <td>1.7</td>\n",
              "    </tr>\n",
              "    <tr>\n",
              "      <th>3</th>\n",
              "      <td>I10</td>\n",
              "      <td>2016</td>\n",
              "      <td>6499</td>\n",
              "      <td>Manual</td>\n",
              "      <td>23789</td>\n",
              "      <td>Petrol</td>\n",
              "      <td>20</td>\n",
              "      <td>60.1</td>\n",
              "      <td>1.0</td>\n",
              "    </tr>\n",
              "    <tr>\n",
              "      <th>4</th>\n",
              "      <td>IX35</td>\n",
              "      <td>2015</td>\n",
              "      <td>10199</td>\n",
              "      <td>Manual</td>\n",
              "      <td>33177</td>\n",
              "      <td>Diesel</td>\n",
              "      <td>160</td>\n",
              "      <td>51.4</td>\n",
              "      <td>2.0</td>\n",
              "    </tr>\n",
              "  </tbody>\n",
              "</table>\n",
              "</div>\n",
              "      <button class=\"colab-df-convert\" onclick=\"convertToInteractive('df-2073d096-ce98-41d7-91f2-9b0700d8dc1c')\"\n",
              "              title=\"Convert this dataframe to an interactive table.\"\n",
              "              style=\"display:none;\">\n",
              "        \n",
              "  <svg xmlns=\"http://www.w3.org/2000/svg\" height=\"24px\"viewBox=\"0 0 24 24\"\n",
              "       width=\"24px\">\n",
              "    <path d=\"M0 0h24v24H0V0z\" fill=\"none\"/>\n",
              "    <path d=\"M18.56 5.44l.94 2.06.94-2.06 2.06-.94-2.06-.94-.94-2.06-.94 2.06-2.06.94zm-11 1L8.5 8.5l.94-2.06 2.06-.94-2.06-.94L8.5 2.5l-.94 2.06-2.06.94zm10 10l.94 2.06.94-2.06 2.06-.94-2.06-.94-.94-2.06-.94 2.06-2.06.94z\"/><path d=\"M17.41 7.96l-1.37-1.37c-.4-.4-.92-.59-1.43-.59-.52 0-1.04.2-1.43.59L10.3 9.45l-7.72 7.72c-.78.78-.78 2.05 0 2.83L4 21.41c.39.39.9.59 1.41.59.51 0 1.02-.2 1.41-.59l7.78-7.78 2.81-2.81c.8-.78.8-2.07 0-2.86zM5.41 20L4 18.59l7.72-7.72 1.47 1.35L5.41 20z\"/>\n",
              "  </svg>\n",
              "      </button>\n",
              "      \n",
              "  <style>\n",
              "    .colab-df-container {\n",
              "      display:flex;\n",
              "      flex-wrap:wrap;\n",
              "      gap: 12px;\n",
              "    }\n",
              "\n",
              "    .colab-df-convert {\n",
              "      background-color: #E8F0FE;\n",
              "      border: none;\n",
              "      border-radius: 50%;\n",
              "      cursor: pointer;\n",
              "      display: none;\n",
              "      fill: #1967D2;\n",
              "      height: 32px;\n",
              "      padding: 0 0 0 0;\n",
              "      width: 32px;\n",
              "    }\n",
              "\n",
              "    .colab-df-convert:hover {\n",
              "      background-color: #E2EBFA;\n",
              "      box-shadow: 0px 1px 2px rgba(60, 64, 67, 0.3), 0px 1px 3px 1px rgba(60, 64, 67, 0.15);\n",
              "      fill: #174EA6;\n",
              "    }\n",
              "\n",
              "    [theme=dark] .colab-df-convert {\n",
              "      background-color: #3B4455;\n",
              "      fill: #D2E3FC;\n",
              "    }\n",
              "\n",
              "    [theme=dark] .colab-df-convert:hover {\n",
              "      background-color: #434B5C;\n",
              "      box-shadow: 0px 1px 3px 1px rgba(0, 0, 0, 0.15);\n",
              "      filter: drop-shadow(0px 1px 2px rgba(0, 0, 0, 0.3));\n",
              "      fill: #FFFFFF;\n",
              "    }\n",
              "  </style>\n",
              "\n",
              "      <script>\n",
              "        const buttonEl =\n",
              "          document.querySelector('#df-2073d096-ce98-41d7-91f2-9b0700d8dc1c button.colab-df-convert');\n",
              "        buttonEl.style.display =\n",
              "          google.colab.kernel.accessAllowed ? 'block' : 'none';\n",
              "\n",
              "        async function convertToInteractive(key) {\n",
              "          const element = document.querySelector('#df-2073d096-ce98-41d7-91f2-9b0700d8dc1c');\n",
              "          const dataTable =\n",
              "            await google.colab.kernel.invokeFunction('convertToInteractive',\n",
              "                                                     [key], {});\n",
              "          if (!dataTable) return;\n",
              "\n",
              "          const docLinkHtml = 'Like what you see? Visit the ' +\n",
              "            '<a target=\"_blank\" href=https://colab.research.google.com/notebooks/data_table.ipynb>data table notebook</a>'\n",
              "            + ' to learn more about interactive tables.';\n",
              "          element.innerHTML = '';\n",
              "          dataTable['output_type'] = 'display_data';\n",
              "          await google.colab.output.renderOutput(dataTable, element);\n",
              "          const docLink = document.createElement('div');\n",
              "          docLink.innerHTML = docLinkHtml;\n",
              "          element.appendChild(docLink);\n",
              "        }\n",
              "      </script>\n",
              "    </div>\n",
              "  </div>\n",
              "  "
            ]
          },
          "metadata": {},
          "execution_count": 3
        }
      ]
    },
    {
      "cell_type": "code",
      "source": [
        "#cek shape dataset\n",
        "dataset.shape"
      ],
      "metadata": {
        "colab": {
          "base_uri": "https://localhost:8080/"
        },
        "id": "eB4v6YjwRGbc",
        "outputId": "4927a292-26d9-4c41-8025-e849a521a291"
      },
      "execution_count": null,
      "outputs": [
        {
          "output_type": "execute_result",
          "data": {
            "text/plain": [
              "(4860, 9)"
            ]
          },
          "metadata": {},
          "execution_count": 4
        }
      ]
    },
    {
      "cell_type": "code",
      "source": [
        "dataset.describe"
      ],
      "metadata": {
        "colab": {
          "base_uri": "https://localhost:8080/"
        },
        "id": "VJ37Hz76RXHP",
        "outputId": "3152d223-8d58-4886-93bb-727a877fc701"
      },
      "execution_count": null,
      "outputs": [
        {
          "output_type": "execute_result",
          "data": {
            "text/plain": [
              "<bound method NDFrame.describe of         model  year  price transmission  mileage fuelType  tax(£)   mpg  \\\n",
              "0         I20  2017   7999       Manual    17307   Petrol     145  58.9   \n",
              "1      Tucson  2016  14499    Automatic    25233   Diesel     235  43.5   \n",
              "2      Tucson  2016  11399       Manual    37877   Diesel      30  61.7   \n",
              "3         I10  2016   6499       Manual    23789   Petrol      20  60.1   \n",
              "4        IX35  2015  10199       Manual    33177   Diesel     160  51.4   \n",
              "...       ...   ...    ...          ...      ...      ...     ...   ...   \n",
              "4855      I30  2016   8680       Manual    25906   Diesel       0  78.4   \n",
              "4856      I40  2015   7830       Manual    59508   Diesel      30  65.7   \n",
              "4857      I10  2017   6830       Manual    13810   Petrol      20  60.1   \n",
              "4858   Tucson  2018  13994       Manual    23313   Petrol     145  44.8   \n",
              "4859   Tucson  2016  15999    Automatic    11472   Diesel     125  57.6   \n",
              "\n",
              "      engineSize  \n",
              "0            1.2  \n",
              "1            2.0  \n",
              "2            1.7  \n",
              "3            1.0  \n",
              "4            2.0  \n",
              "...          ...  \n",
              "4855         1.6  \n",
              "4856         1.7  \n",
              "4857         1.0  \n",
              "4858         1.6  \n",
              "4859         1.7  \n",
              "\n",
              "[4860 rows x 9 columns]>"
            ]
          },
          "metadata": {},
          "execution_count": 5
        }
      ]
    },
    {
      "cell_type": "code",
      "source": [
        "\n",
        "data_training = dataset.dropna(axis=0) #axjs = 0 --> rows, axis = 1 --> column\n",
        "data_training.describe()"
      ],
      "metadata": {
        "id": "C-ypCLHnSShs",
        "colab": {
          "base_uri": "https://localhost:8080/",
          "height": 300
        },
        "outputId": "0b3c1c4a-e8e9-4297-dcda-d2d71559f655"
      },
      "execution_count": null,
      "outputs": [
        {
          "output_type": "execute_result",
          "data": {
            "text/plain": [
              "              year        price        mileage       tax(£)          mpg  \\\n",
              "count  4860.000000   4860.00000    4860.000000  4860.000000  4860.000000   \n",
              "mean   2017.107613  12750.13107   21486.049588   121.147119    53.827798   \n",
              "std       1.920456   5992.92231   17710.196964    58.003289    12.736042   \n",
              "min    2000.000000   1200.00000       1.000000     0.000000     1.100000   \n",
              "25%    2016.000000   8000.00000    8339.250000   125.000000    44.800000   \n",
              "50%    2017.000000  11990.00000   17462.000000   145.000000    55.400000   \n",
              "75%    2019.000000  15733.75000   30967.000000   145.000000    60.100000   \n",
              "max    2020.000000  92000.00000  138000.000000   555.000000   256.800000   \n",
              "\n",
              "        engineSize  \n",
              "count  4860.000000  \n",
              "mean      1.457922  \n",
              "std       0.400788  \n",
              "min       0.000000  \n",
              "25%       1.200000  \n",
              "50%       1.600000  \n",
              "75%       1.700000  \n",
              "max       2.900000  "
            ],
            "text/html": [
              "\n",
              "  <div id=\"df-f8dfc297-3060-4ee6-ab31-a9387f8fd92c\">\n",
              "    <div class=\"colab-df-container\">\n",
              "      <div>\n",
              "<style scoped>\n",
              "    .dataframe tbody tr th:only-of-type {\n",
              "        vertical-align: middle;\n",
              "    }\n",
              "\n",
              "    .dataframe tbody tr th {\n",
              "        vertical-align: top;\n",
              "    }\n",
              "\n",
              "    .dataframe thead th {\n",
              "        text-align: right;\n",
              "    }\n",
              "</style>\n",
              "<table border=\"1\" class=\"dataframe\">\n",
              "  <thead>\n",
              "    <tr style=\"text-align: right;\">\n",
              "      <th></th>\n",
              "      <th>year</th>\n",
              "      <th>price</th>\n",
              "      <th>mileage</th>\n",
              "      <th>tax(£)</th>\n",
              "      <th>mpg</th>\n",
              "      <th>engineSize</th>\n",
              "    </tr>\n",
              "  </thead>\n",
              "  <tbody>\n",
              "    <tr>\n",
              "      <th>count</th>\n",
              "      <td>4860.000000</td>\n",
              "      <td>4860.00000</td>\n",
              "      <td>4860.000000</td>\n",
              "      <td>4860.000000</td>\n",
              "      <td>4860.000000</td>\n",
              "      <td>4860.000000</td>\n",
              "    </tr>\n",
              "    <tr>\n",
              "      <th>mean</th>\n",
              "      <td>2017.107613</td>\n",
              "      <td>12750.13107</td>\n",
              "      <td>21486.049588</td>\n",
              "      <td>121.147119</td>\n",
              "      <td>53.827798</td>\n",
              "      <td>1.457922</td>\n",
              "    </tr>\n",
              "    <tr>\n",
              "      <th>std</th>\n",
              "      <td>1.920456</td>\n",
              "      <td>5992.92231</td>\n",
              "      <td>17710.196964</td>\n",
              "      <td>58.003289</td>\n",
              "      <td>12.736042</td>\n",
              "      <td>0.400788</td>\n",
              "    </tr>\n",
              "    <tr>\n",
              "      <th>min</th>\n",
              "      <td>2000.000000</td>\n",
              "      <td>1200.00000</td>\n",
              "      <td>1.000000</td>\n",
              "      <td>0.000000</td>\n",
              "      <td>1.100000</td>\n",
              "      <td>0.000000</td>\n",
              "    </tr>\n",
              "    <tr>\n",
              "      <th>25%</th>\n",
              "      <td>2016.000000</td>\n",
              "      <td>8000.00000</td>\n",
              "      <td>8339.250000</td>\n",
              "      <td>125.000000</td>\n",
              "      <td>44.800000</td>\n",
              "      <td>1.200000</td>\n",
              "    </tr>\n",
              "    <tr>\n",
              "      <th>50%</th>\n",
              "      <td>2017.000000</td>\n",
              "      <td>11990.00000</td>\n",
              "      <td>17462.000000</td>\n",
              "      <td>145.000000</td>\n",
              "      <td>55.400000</td>\n",
              "      <td>1.600000</td>\n",
              "    </tr>\n",
              "    <tr>\n",
              "      <th>75%</th>\n",
              "      <td>2019.000000</td>\n",
              "      <td>15733.75000</td>\n",
              "      <td>30967.000000</td>\n",
              "      <td>145.000000</td>\n",
              "      <td>60.100000</td>\n",
              "      <td>1.700000</td>\n",
              "    </tr>\n",
              "    <tr>\n",
              "      <th>max</th>\n",
              "      <td>2020.000000</td>\n",
              "      <td>92000.00000</td>\n",
              "      <td>138000.000000</td>\n",
              "      <td>555.000000</td>\n",
              "      <td>256.800000</td>\n",
              "      <td>2.900000</td>\n",
              "    </tr>\n",
              "  </tbody>\n",
              "</table>\n",
              "</div>\n",
              "      <button class=\"colab-df-convert\" onclick=\"convertToInteractive('df-f8dfc297-3060-4ee6-ab31-a9387f8fd92c')\"\n",
              "              title=\"Convert this dataframe to an interactive table.\"\n",
              "              style=\"display:none;\">\n",
              "        \n",
              "  <svg xmlns=\"http://www.w3.org/2000/svg\" height=\"24px\"viewBox=\"0 0 24 24\"\n",
              "       width=\"24px\">\n",
              "    <path d=\"M0 0h24v24H0V0z\" fill=\"none\"/>\n",
              "    <path d=\"M18.56 5.44l.94 2.06.94-2.06 2.06-.94-2.06-.94-.94-2.06-.94 2.06-2.06.94zm-11 1L8.5 8.5l.94-2.06 2.06-.94-2.06-.94L8.5 2.5l-.94 2.06-2.06.94zm10 10l.94 2.06.94-2.06 2.06-.94-2.06-.94-.94-2.06-.94 2.06-2.06.94z\"/><path d=\"M17.41 7.96l-1.37-1.37c-.4-.4-.92-.59-1.43-.59-.52 0-1.04.2-1.43.59L10.3 9.45l-7.72 7.72c-.78.78-.78 2.05 0 2.83L4 21.41c.39.39.9.59 1.41.59.51 0 1.02-.2 1.41-.59l7.78-7.78 2.81-2.81c.8-.78.8-2.07 0-2.86zM5.41 20L4 18.59l7.72-7.72 1.47 1.35L5.41 20z\"/>\n",
              "  </svg>\n",
              "      </button>\n",
              "      \n",
              "  <style>\n",
              "    .colab-df-container {\n",
              "      display:flex;\n",
              "      flex-wrap:wrap;\n",
              "      gap: 12px;\n",
              "    }\n",
              "\n",
              "    .colab-df-convert {\n",
              "      background-color: #E8F0FE;\n",
              "      border: none;\n",
              "      border-radius: 50%;\n",
              "      cursor: pointer;\n",
              "      display: none;\n",
              "      fill: #1967D2;\n",
              "      height: 32px;\n",
              "      padding: 0 0 0 0;\n",
              "      width: 32px;\n",
              "    }\n",
              "\n",
              "    .colab-df-convert:hover {\n",
              "      background-color: #E2EBFA;\n",
              "      box-shadow: 0px 1px 2px rgba(60, 64, 67, 0.3), 0px 1px 3px 1px rgba(60, 64, 67, 0.15);\n",
              "      fill: #174EA6;\n",
              "    }\n",
              "\n",
              "    [theme=dark] .colab-df-convert {\n",
              "      background-color: #3B4455;\n",
              "      fill: #D2E3FC;\n",
              "    }\n",
              "\n",
              "    [theme=dark] .colab-df-convert:hover {\n",
              "      background-color: #434B5C;\n",
              "      box-shadow: 0px 1px 3px 1px rgba(0, 0, 0, 0.15);\n",
              "      filter: drop-shadow(0px 1px 2px rgba(0, 0, 0, 0.3));\n",
              "      fill: #FFFFFF;\n",
              "    }\n",
              "  </style>\n",
              "\n",
              "      <script>\n",
              "        const buttonEl =\n",
              "          document.querySelector('#df-f8dfc297-3060-4ee6-ab31-a9387f8fd92c button.colab-df-convert');\n",
              "        buttonEl.style.display =\n",
              "          google.colab.kernel.accessAllowed ? 'block' : 'none';\n",
              "\n",
              "        async function convertToInteractive(key) {\n",
              "          const element = document.querySelector('#df-f8dfc297-3060-4ee6-ab31-a9387f8fd92c');\n",
              "          const dataTable =\n",
              "            await google.colab.kernel.invokeFunction('convertToInteractive',\n",
              "                                                     [key], {});\n",
              "          if (!dataTable) return;\n",
              "\n",
              "          const docLinkHtml = 'Like what you see? Visit the ' +\n",
              "            '<a target=\"_blank\" href=https://colab.research.google.com/notebooks/data_table.ipynb>data table notebook</a>'\n",
              "            + ' to learn more about interactive tables.';\n",
              "          element.innerHTML = '';\n",
              "          dataTable['output_type'] = 'display_data';\n",
              "          await google.colab.output.renderOutput(dataTable, element);\n",
              "          const docLink = document.createElement('div');\n",
              "          docLink.innerHTML = docLinkHtml;\n",
              "          element.appendChild(docLink);\n",
              "        }\n",
              "      </script>\n",
              "    </div>\n",
              "  </div>\n",
              "  "
            ]
          },
          "metadata": {},
          "execution_count": 6
        }
      ]
    },
    {
      "cell_type": "code",
      "source": [
        "print (data_training.dtypes)"
      ],
      "metadata": {
        "id": "1lqPhGNfS6zM",
        "colab": {
          "base_uri": "https://localhost:8080/"
        },
        "outputId": "6639ee7c-2bf5-4ac1-c43c-821653d582c2"
      },
      "execution_count": null,
      "outputs": [
        {
          "output_type": "stream",
          "name": "stdout",
          "text": [
            "model            object\n",
            "year              int64\n",
            "price             int64\n",
            "transmission     object\n",
            "mileage           int64\n",
            "fuelType         object\n",
            "tax(£)            int64\n",
            "mpg             float64\n",
            "engineSize      float64\n",
            "dtype: object\n"
          ]
        }
      ]
    },
    {
      "cell_type": "code",
      "source": [
        "features = ['year', 'mileage', 'tax(£)', 'mpg', 'engineSize']\n",
        "x = data_training[features]\n",
        "y = data_training['price']\n",
        "x.shape, y.shape"
      ],
      "metadata": {
        "colab": {
          "base_uri": "https://localhost:8080/"
        },
        "id": "EFbQqnA8TBn-",
        "outputId": "ad724ce9-b823-4cf1-ce9b-53fdae28422d"
      },
      "execution_count": null,
      "outputs": [
        {
          "output_type": "execute_result",
          "data": {
            "text/plain": [
              "((4860, 5), (4860,))"
            ]
          },
          "metadata": {},
          "execution_count": 8
        }
      ]
    },
    {
      "cell_type": "code",
      "source": [
        "from sklearn.model_selection import train_test_split\n",
        "train_x, test_x, train_y, test_y = train_test_split(x, y, random_state = 70) #random state"
      ],
      "metadata": {
        "id": "eaA_7uUVTmD8"
      },
      "execution_count": null,
      "outputs": []
    },
    {
      "cell_type": "code",
      "source": [
        "test_y.shape"
      ],
      "metadata": {
        "colab": {
          "base_uri": "https://localhost:8080/"
        },
        "id": "y3WIlGx8UMCG",
        "outputId": "2b14fde6-b750-411c-b731-19defcdb395f"
      },
      "execution_count": null,
      "outputs": [
        {
          "output_type": "execute_result",
          "data": {
            "text/plain": [
              "(1215,)"
            ]
          },
          "metadata": {},
          "execution_count": 10
        }
      ]
    },
    {
      "cell_type": "code",
      "source": [
        "from sklearn.neighbors import KNeighborsRegressor as KNN_Reg\n",
        "from sklearn.metrics import mean_squared_error as mse\n",
        "\n",
        "model = KNN_Reg(n_neighbors = 80)\n",
        "\n",
        "# training the model:\n",
        "model.fit(train_x, train_y)\n",
        "acc1 = model.score(test_x, test_y)\n",
        "\n",
        "# test for prediction\n",
        "test_predict = model.predict(test_x)\n",
        "score = mse(test_predict, test_y)\n",
        "print(' MSE: ', score, '\\n', 'Accuracy: ', acc1)  "
      ],
      "metadata": {
        "colab": {
          "base_uri": "https://localhost:8080/"
        },
        "id": "q_nQWVAPUQvI",
        "outputId": "072e03b8-fdaa-43c9-900e-56b0dc115de3"
      },
      "execution_count": null,
      "outputs": [
        {
          "output_type": "stream",
          "name": "stdout",
          "text": [
            " MSE:  25581499.938654833 \n",
            " Accuracy:  0.2329362433121357\n"
          ]
        }
      ]
    },
    {
      "cell_type": "code",
      "source": [
        "def Elbow(K):\n",
        "  #initiating an empy list\n",
        "  test_mse =[]\n",
        "\n",
        "  #train model for every value of K\n",
        "  for i in K:\n",
        "    model = KNN_Reg(n_neighbors=i)\n",
        "    model.fit(train_x, train_y)\n",
        "    tmp = model.predict(test_x)\n",
        "    tmp = mse(tmp, test_y)\n",
        "    test_mse.append(tmp)\n",
        "  \n",
        "  return test_mse"
      ],
      "metadata": {
        "id": "C3_iElfyUTxo"
      },
      "execution_count": null,
      "outputs": []
    },
    {
      "cell_type": "code",
      "source": [
        "import matplotlib.pyplot as plt\n",
        "K = range(80, 100)\n",
        "test = Elbow(K)\n",
        "\n",
        "#plotting\n",
        "plt.plot(K,test)\n",
        "plt.xlabel('K Neighbors')\n",
        "plt.ylabel('Mean Squared Error (MSE)')\n",
        "plt.title('Elbow Curve for Test')"
      ],
      "metadata": {
        "id": "W-0CzI1rUcC0",
        "colab": {
          "base_uri": "https://localhost:8080/",
          "height": 312
        },
        "outputId": "3c74ab67-d607-4196-aec2-6941e0859331"
      },
      "execution_count": null,
      "outputs": [
        {
          "output_type": "execute_result",
          "data": {
            "text/plain": [
              "Text(0.5, 1.0, 'Elbow Curve for Test')"
            ]
          },
          "metadata": {},
          "execution_count": 13
        },
        {
          "output_type": "display_data",
          "data": {
            "text/plain": [
              "<Figure size 432x288 with 1 Axes>"
            ],
            "image/png": "[encoded data removed]"
          },
          "metadata": {
            "needs_background": "light"
          }
        }
      ]
    },
    {
      "cell_type": "code",
      "source": [
        "#diambil angka 92 karena Elbow mennunjukan mse paling kecil\n",
        "new_model = KNN_Reg(n_neighbors=92)\n",
        "\n",
        "# Train model\n",
        "new_model.fit(train_x, train_y)\n",
        "acc2 = new_model.score(test_x, test_y)\n",
        "\n",
        "# Prediction test\n",
        "print(' Accuracy of new model (%):', acc2*100, '\\n', 'Accuracy of old model (%):', acc1*100, '\\n Improvement (%):', (acc2-acc1)*100)"
      ],
      "metadata": {
        "colab": {
          "base_uri": "https://localhost:8080/"
        },
        "id": "l1HDWpZQU9GR",
        "outputId": "f4f862e3-5f16-4f6c-a40a-5d1e4e6b9762"
      },
      "execution_count": null,
      "outputs": [
        {
          "output_type": "stream",
          "name": "stdout",
          "text": [
            " Accuracy of new model (%): 23.814068247074836 \n",
            " Accuracy of old model (%): 23.293624331213568 \n",
            " Improvement (%): 0.5204439158612684\n"
          ]
        }
      ]
    },
    {
      "cell_type": "markdown",
      "source": [
        "\n",
        "\n",
        "Memprediksi dengan memasukkan data yang dimiliki berupa:\n",
        "\n",
        "    Tahun dibuatnya mobil --- year\n",
        "    Jarak tempuh mobil dalam satuan mil --- mileage\n",
        "    Pajak kendaraan yang berlaku --- tax\n",
        "    Kebutuhan rata-rata bahan bakar dalam satuan mpg --- mpg\n",
        "    Besarnya ukuran mesin --- engineSize\n",
        "\n",
        "Konversi mata uang : £ 1 = Rp 18679, data diambil pada 23 November 2022\n",
        "\n",
        "Percobaan ke 1\n",
        "\n",
        "Data mobil bekas: year=2020, mileage=6000, tax=150, mpg=30.2, engineSize=2\n",
        "\n",
        "Format input data:\n",
        "\n",
        "data_mobil_bekas = ['year', 'mileage', 'tax', 'mpg', 'engineSize']\n"
      ],
      "metadata": {
        "id": "fXo5hMQpVOAS"
      }
    },
    {
      "cell_type": "markdown",
      "source": [
        "Data mobil bekas: year=2021, mileage=19000, tax=200, mpg=20, engineSize=3]\n",
        "\n",
        "Format input data:\n",
        "\n",
        "data_mobil_bekas = ['year', 'mileage', 'tax', 'mpg', 'engineSize']"
      ],
      "metadata": {
        "id": "u5QH92e6VwBp"
      }
    },
    {
      "cell_type": "code",
      "source": [
        "import numpy as np\n",
        "data_mobil_bekas = np.array([[2020,6000,150,30.2,2]])\n",
        "prediction_old = model.predict(data_mobil_bekas)\n",
        "prediction_new = new_model.predict(data_mobil_bekas)\n",
        "print(' Hasil Prediksi harga mobil dengan old model: £', prediction_old, 'atau jika dirupiahkan yaitu: Rp', prediction_old * 18679*1e-6, 'Juta\\n',\n",
        "      'Hasil Prediksi harga mobil dengan new model: £', prediction_new, 'atau jika dirupiahkan yaitu: Rp', prediction_new * 18679*1e-6, 'Juta')"
      ],
      "metadata": {
        "id": "5xmsoN_1VTH2",
        "colab": {
          "base_uri": "https://localhost:8080/"
        },
        "outputId": "ee526f02-82c1-48a9-bd06-51f5c91497ff"
      },
      "execution_count": null,
      "outputs": [
        {
          "output_type": "stream",
          "name": "stdout",
          "text": [
            " Hasil Prediksi harga mobil dengan old model: £ [16198.0125] atau jika dirupiahkan yaitu: Rp [302.56267549] Juta\n",
            " Hasil Prediksi harga mobil dengan new model: £ [16633.81521739] atau jika dirupiahkan yaitu: Rp [310.70303445] Juta\n"
          ]
        },
        {
          "output_type": "stream",
          "name": "stderr",
          "text": [
            "/usr/local/lib/python3.8/dist-packages/sklearn/base.py:450: UserWarning: X does not have valid feature names, but KNeighborsRegressor was fitted with feature names\n",
            "  warnings.warn(\n",
            "/usr/local/lib/python3.8/dist-packages/sklearn/base.py:450: UserWarning: X does not have valid feature names, but KNeighborsRegressor was fitted with feature names\n",
            "  warnings.warn(\n"
          ]
        }
      ]
    },
    {
      "cell_type": "code",
      "source": [
        "data_mobil_bekas = np.array([[2021,19000,200,20,3]])\n",
        "prediction_old = model.predict(data_mobil_bekas)\n",
        "prediction_new = new_model.predict(data_mobil_bekas)\n",
        "print(' Hasil Prediksi harga mobil dengan old model: £', prediction_old, 'atau jika dirupiahkan yaitu: Rp', prediction_old * 18679*1e-6, 'Juta\\n',\n",
        "      'Hasil Prediksi harga mobil dengan new model: £', prediction_new, 'atau jika dirupiahkan yaitu: Rp', prediction_new * 18679*1e-6, 'Juta')"
      ],
      "metadata": {
        "colab": {
          "base_uri": "https://localhost:8080/"
        },
        "id": "TeQQ6E3GVkS7",
        "outputId": "2b15d94f-3918-42f8-fc74-456ca8538db4"
      },
      "execution_count": null,
      "outputs": [
        {
          "output_type": "stream",
          "name": "stdout",
          "text": [
            " Hasil Prediksi harga mobil dengan old model: £ [11903.2] atau jika dirupiahkan yaitu: Rp [222.3398728] Juta\n",
            " Hasil Prediksi harga mobil dengan new model: £ [11761.09782609] atau jika dirupiahkan yaitu: Rp [219.68554629] Juta\n"
          ]
        },
        {
          "output_type": "stream",
          "name": "stderr",
          "text": [
            "/usr/local/lib/python3.8/dist-packages/sklearn/base.py:450: UserWarning: X does not have valid feature names, but KNeighborsRegressor was fitted with feature names\n",
            "  warnings.warn(\n",
            "/usr/local/lib/python3.8/dist-packages/sklearn/base.py:450: UserWarning: X does not have valid feature names, but KNeighborsRegressor was fitted with feature names\n",
            "  warnings.warn(\n"
          ]
        }
      ]
    },
    {
      "cell_type": "markdown",
      "source": [
        "\n",
        "\n",
        "Percobaan ke 3\n",
        "\n",
        "Data mobil bekas: year=2010, mileage=90000, tax=150, mpg=20, engineSize=2]\n",
        "\n",
        "Format input data:\n",
        "\n",
        "data_mobil_bekas = ['year', 'mileage', 'tax', 'mpg', 'engineSize']\n"
      ],
      "metadata": {
        "id": "1j7sUPPiV4Yu"
      }
    },
    {
      "cell_type": "code",
      "source": [
        "data_mobil_bekas = np.array([[2010,90000,150,20,2]])\n",
        "prediction_old = model.predict(data_mobil_bekas)\n",
        "prediction_new = new_model.predict(data_mobil_bekas)\n",
        "print(' Hasil Prediksi harga mobil dengan old model: £', prediction_old, 'atau jika dirupiahkan yaitu: Rp', prediction_old * 18679*1e-6, 'Juta\\n',\n",
        "      'Hasil Prediksi harga mobil dengan new model: £', prediction_new, 'atau jika dirupiahkan yaitu: Rp', prediction_new * 18679*1e-6, 'Juta')"
      ],
      "metadata": {
        "colab": {
          "base_uri": "https://localhost:8080/"
        },
        "id": "OW5CIKwsV6Ij",
        "outputId": "45655bcb-94b7-41b0-dc44-2d9dabb4dfb4"
      },
      "execution_count": null,
      "outputs": [
        {
          "output_type": "stream",
          "name": "stdout",
          "text": [
            " Hasil Prediksi harga mobil dengan old model: £ [6148.025] atau jika dirupiahkan yaitu: Rp [114.83895897] Juta\n",
            " Hasil Prediksi harga mobil dengan new model: £ [6186.59782609] atau jika dirupiahkan yaitu: Rp [115.55946079] Juta\n"
          ]
        },
        {
          "output_type": "stream",
          "name": "stderr",
          "text": [
            "/usr/local/lib/python3.8/dist-packages/sklearn/base.py:450: UserWarning: X does not have valid feature names, but KNeighborsRegressor was fitted with feature names\n",
            "  warnings.warn(\n",
            "/usr/local/lib/python3.8/dist-packages/sklearn/base.py:450: UserWarning: X does not have valid feature names, but KNeighborsRegressor was fitted with feature names\n",
            "  warnings.warn(\n"
          ]
        }
      ]
    }
  ]
}